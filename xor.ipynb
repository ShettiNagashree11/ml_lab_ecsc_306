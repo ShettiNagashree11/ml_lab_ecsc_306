{
 "cells": [
  {
   "cell_type": "code",
   "execution_count": 6,
   "metadata": {},
   "outputs": [
    {
     "name": "stdout",
     "output_type": "stream",
     "text": [
      "WARNING:tensorflow:From /Anaconda/anaconda3/lib/python3.6/site-packages/tensorflow/python/util/tf_should_use.py:170: initialize_all_variables (from tensorflow.python.ops.variables) is deprecated and will be removed after 2017-03-02.\n",
      "Instructions for updating:\n",
      "Use `tf.global_variables_initializer` instead.\n",
      "[0 1 1 0]\n"
     ]
    }
   ],
   "source": [
    "import tensorflow as tf\n",
    "sess = tf.InteractiveSession()\n",
    "\n",
    "# Desired input output mapping of XOR function:\n",
    "x_ = [[0, 0], [0, 1], [1, 0], [1, 1]] # input\n",
    "#labels=[0,      1,      1,      0]   # output =>\n",
    "expect=[[1,0],  [0,1],  [0,1], [1,0]] # ONE HOT REPRESENTATION! 'class' [1,0]==0 [0,1]==1\n",
    "\n",
    "# x = tf.Variable(x_)\n",
    "x = tf.placeholder(\"float\", [None,2]) #  can we feed directly?\n",
    "y_ = tf.placeholder(\"float\", [None, 2]) # two output classes\n",
    "\n",
    "number_hidden_nodes = 20 # 20 outputs to create some room for negatives and positives\n",
    "\n",
    "W = tf.Variable(tf.random_uniform([2, number_hidden_nodes], -.01, .01))\n",
    "b = tf.Variable(tf.random_uniform([number_hidden_nodes], -.01, .01))\n",
    "hidden  = tf.nn.relu(tf.matmul(x,W) + b) # first layer.\n",
    "\n",
    " # the XOR function is the first nontrivial function, for which a two layer network is needed.\n",
    "W2 = tf.Variable(tf.random_uniform([number_hidden_nodes,2], -.1, .1))\n",
    "b2 = tf.Variable(tf.zeros([2]))\n",
    "hidden2 = tf.matmul(hidden, W2)#+b2\n",
    "\n",
    "y = tf.nn.softmax(hidden2)\n",
    "\n",
    "\n",
    "# Define loss and optimizer\n",
    "cross_entropy = -tf.reduce_sum(y_*tf.log(y))\n",
    "train_step = tf.train.GradientDescentOptimizer(0.2).minimize(cross_entropy)\n",
    "\n",
    "# Train\n",
    "tf.initialize_all_variables().run()\n",
    "for step in range(1000):\n",
    "    feed_dict={x: x_, y_:expect } # feed the net with our inputs and desired outputs.\n",
    "    e,a=sess.run([cross_entropy,train_step],feed_dict)\n",
    "    if e<1:break # early stopping yay\n",
    "   # print (\"step %d : entropy %s\" % (step,e)) # error/loss should decrease over time\n",
    "\n",
    "\n",
    "# Test trained model\n",
    "correct_prediction = tf.equal(tf.argmax(y,1), tf.argmax(y_,1)) # argmax along dim-1\n",
    "accuracy = tf.reduce_mean(tf.cast(correct_prediction, \"float\")) # [True, False, True, True] -> [1,0,1,1] -> 0.75.\n",
    "\n",
    "#print (\"accuracy %s\"%(accuracy.eval({x: x_, y_: expect})))\n",
    "\n",
    "learned_output=tf.argmax(y,1)\n",
    "print (learned_output.eval({x: x_}))"
   ]
  },
  {
   "cell_type": "code",
   "execution_count": null,
   "metadata": {
    "collapsed": true
   },
   "outputs": [],
   "source": []
  }
 ],
 "metadata": {
  "kernelspec": {
   "display_name": "Python 3",
   "language": "python",
   "name": "python3"
  },
  "language_info": {
   "codemirror_mode": {
    "name": "ipython",
    "version": 3
   },
   "file_extension": ".py",
   "mimetype": "text/x-python",
   "name": "python",
   "nbconvert_exporter": "python",
   "pygments_lexer": "ipython3",
   "version": "3.6.1"
  }
 },
 "nbformat": 4,
 "nbformat_minor": 2
}
